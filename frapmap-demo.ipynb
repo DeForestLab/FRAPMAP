{
 "cells": [
  {
   "cell_type": "code",
   "execution_count": null,
   "id": "351fefea",
   "metadata": {},
   "outputs": [],
   "source": [
    "from frapmap.frapmap import *"
   ]
  },
  {
   "cell_type": "code",
   "execution_count": null,
   "id": "5ed8f196",
   "metadata": {},
   "outputs": [],
   "source": [
    "# Demonstration of batch csv processing\n",
    "\n",
    "path = 'sample_1D_data\\\\'\n",
    "\n",
    "df = batch_csv(path, w=25, encode='utf-16')\n",
    "df"
   ]
  },
  {
   "cell_type": "code",
   "execution_count": null,
   "id": "cf0997ea",
   "metadata": {},
   "outputs": [],
   "source": [
    "# Demonstration of single recovery curve processing\n",
    "\n",
    "single_file_path = 'C:\\\\Users\\\\Ryan\\\\Downloads\\\\drive-download-20250829T170431Z-1-001\\\\grad1.csv'\n",
    "\n",
    "data = pd.read_csv(single_file_path, encoding='utf-16', header=None, names=['time', 'fluor'])\n",
    "\n",
    "diff, a = fit_recovery(data['time'], data['fluor'], w=25)\n",
    "\n",
    "print(f\"Diffusion Coefficient: {diff}, a: {a}\")"
   ]
  },
  {
   "cell_type": "code",
   "execution_count": null,
   "id": "acbfb747",
   "metadata": {},
   "outputs": [],
   "source": []
  }
 ],
 "metadata": {
  "kernelspec": {
   "display_name": "frapmap",
   "language": "python",
   "name": "python3"
  },
  "language_info": {
   "codemirror_mode": {
    "name": "ipython",
    "version": 3
   },
   "file_extension": ".py",
   "mimetype": "text/x-python",
   "name": "python",
   "nbconvert_exporter": "python",
   "pygments_lexer": "ipython3",
   "version": "3.13.5"
  }
 },
 "nbformat": 4,
 "nbformat_minor": 5
}
